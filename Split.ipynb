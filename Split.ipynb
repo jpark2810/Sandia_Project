{
 "cells": [
  {
   "cell_type": "code",
   "execution_count": 1,
   "id": "da2fd4b6-f520-4ec6-a0ab-67535c6701d4",
   "metadata": {},
   "outputs": [],
   "source": [
    "from matplotlib import pyplot as plt\n",
    "import numpy as np\n",
    "import pandas as pd\n",
    "from datetime import datetime"
   ]
  },
  {
   "cell_type": "code",
   "execution_count": 2,
   "id": "ae3c1500-f799-4298-a9a2-122757b4252d",
   "metadata": {},
   "outputs": [
    {
     "data": {
      "text/html": [
       "<div>\n",
       "<style scoped>\n",
       "    .dataframe tbody tr th:only-of-type {\n",
       "        vertical-align: middle;\n",
       "    }\n",
       "\n",
       "    .dataframe tbody tr th {\n",
       "        vertical-align: top;\n",
       "    }\n",
       "\n",
       "    .dataframe thead th {\n",
       "        text-align: right;\n",
       "    }\n",
       "</style>\n",
       "<table border=\"1\" class=\"dataframe\">\n",
       "  <thead>\n",
       "    <tr style=\"text-align: right;\">\n",
       "      <th></th>\n",
       "      <th>lon</th>\n",
       "      <th>lat</th>\n",
       "      <th>T</th>\n",
       "      <th>date</th>\n",
       "      <th>lev</th>\n",
       "      <th>month</th>\n",
       "      <th>year</th>\n",
       "      <th>day</th>\n",
       "    </tr>\n",
       "  </thead>\n",
       "  <tbody>\n",
       "    <tr>\n",
       "      <th>83136</th>\n",
       "      <td>-176.5625</td>\n",
       "      <td>56.5</td>\n",
       "      <td>229.257093</td>\n",
       "      <td>1986-01-01</td>\n",
       "      <td>50</td>\n",
       "      <td>1</td>\n",
       "      <td>1986</td>\n",
       "      <td>0</td>\n",
       "    </tr>\n",
       "    <tr>\n",
       "      <th>83137</th>\n",
       "      <td>-169.0625</td>\n",
       "      <td>56.5</td>\n",
       "      <td>229.008780</td>\n",
       "      <td>1986-01-01</td>\n",
       "      <td>50</td>\n",
       "      <td>1</td>\n",
       "      <td>1986</td>\n",
       "      <td>0</td>\n",
       "    </tr>\n",
       "    <tr>\n",
       "      <th>83138</th>\n",
       "      <td>-161.5625</td>\n",
       "      <td>56.5</td>\n",
       "      <td>228.609150</td>\n",
       "      <td>1986-01-01</td>\n",
       "      <td>50</td>\n",
       "      <td>1</td>\n",
       "      <td>1986</td>\n",
       "      <td>0</td>\n",
       "    </tr>\n",
       "    <tr>\n",
       "      <th>83139</th>\n",
       "      <td>-154.0625</td>\n",
       "      <td>56.5</td>\n",
       "      <td>227.929692</td>\n",
       "      <td>1986-01-01</td>\n",
       "      <td>50</td>\n",
       "      <td>1</td>\n",
       "      <td>1986</td>\n",
       "      <td>0</td>\n",
       "    </tr>\n",
       "    <tr>\n",
       "      <th>83140</th>\n",
       "      <td>-146.5625</td>\n",
       "      <td>56.5</td>\n",
       "      <td>226.916581</td>\n",
       "      <td>1986-01-01</td>\n",
       "      <td>50</td>\n",
       "      <td>1</td>\n",
       "      <td>1986</td>\n",
       "      <td>0</td>\n",
       "    </tr>\n",
       "  </tbody>\n",
       "</table>\n",
       "</div>"
      ],
      "text/plain": [
       "            lon   lat           T       date  lev  month  year  day\n",
       "83136 -176.5625  56.5  229.257093 1986-01-01   50      1  1986    0\n",
       "83137 -169.0625  56.5  229.008780 1986-01-01   50      1  1986    0\n",
       "83138 -161.5625  56.5  228.609150 1986-01-01   50      1  1986    0\n",
       "83139 -154.0625  56.5  227.929692 1986-01-01   50      1  1986    0\n",
       "83140 -146.5625  56.5  226.916581 1986-01-01   50      1  1986    0"
      ]
     },
     "execution_count": 2,
     "metadata": {},
     "output_type": "execute_result"
    }
   ],
   "source": [
    "path = \"data/MERRA2_3dasm_temperature_50mb_48x24.csv\"\n",
    "fmt = \"%Y-%m-%d\"\n",
    "\n",
    "dfT = pd.read_csv(path)\n",
    "dfT = dfT[\n",
    "    (dfT.lat >= -60) & \n",
    "    (dfT.lat <= 60) &\n",
    "    (dfT.year >= 1986) & \n",
    "    (dfT.year < 1994)\n",
    "]\n",
    "dfT[\"date\"] = dfT.date.apply(lambda x: datetime.strptime(x, fmt))\n",
    "dfT.head()"
   ]
  },
  {
   "cell_type": "code",
   "execution_count": 3,
   "id": "317286e2-b850-495f-ad94-05ef263684f0",
   "metadata": {},
   "outputs": [
    {
     "data": {
      "text/html": [
       "<div>\n",
       "<style scoped>\n",
       "    .dataframe tbody tr th:only-of-type {\n",
       "        vertical-align: middle;\n",
       "    }\n",
       "\n",
       "    .dataframe tbody tr th {\n",
       "        vertical-align: top;\n",
       "    }\n",
       "\n",
       "    .dataframe thead th {\n",
       "        text-align: right;\n",
       "    }\n",
       "</style>\n",
       "<table border=\"1\" class=\"dataframe\">\n",
       "  <thead>\n",
       "    <tr style=\"text-align: right;\">\n",
       "      <th></th>\n",
       "      <th>lon</th>\n",
       "      <th>lat</th>\n",
       "      <th>T</th>\n",
       "      <th>date</th>\n",
       "      <th>lev</th>\n",
       "      <th>month</th>\n",
       "      <th>year</th>\n",
       "      <th>day</th>\n",
       "    </tr>\n",
       "  </thead>\n",
       "  <tbody>\n",
       "    <tr>\n",
       "      <th>193339</th>\n",
       "      <td>145.9375</td>\n",
       "      <td>-56.0</td>\n",
       "      <td>225.518711</td>\n",
       "      <td>1993-12-01</td>\n",
       "      <td>50</td>\n",
       "      <td>12</td>\n",
       "      <td>1993</td>\n",
       "      <td>0</td>\n",
       "    </tr>\n",
       "    <tr>\n",
       "      <th>193340</th>\n",
       "      <td>153.4375</td>\n",
       "      <td>-56.0</td>\n",
       "      <td>224.930258</td>\n",
       "      <td>1993-12-01</td>\n",
       "      <td>50</td>\n",
       "      <td>12</td>\n",
       "      <td>1993</td>\n",
       "      <td>0</td>\n",
       "    </tr>\n",
       "    <tr>\n",
       "      <th>193341</th>\n",
       "      <td>160.9375</td>\n",
       "      <td>-56.0</td>\n",
       "      <td>224.498621</td>\n",
       "      <td>1993-12-01</td>\n",
       "      <td>50</td>\n",
       "      <td>12</td>\n",
       "      <td>1993</td>\n",
       "      <td>0</td>\n",
       "    </tr>\n",
       "    <tr>\n",
       "      <th>193342</th>\n",
       "      <td>168.4375</td>\n",
       "      <td>-56.0</td>\n",
       "      <td>224.309027</td>\n",
       "      <td>1993-12-01</td>\n",
       "      <td>50</td>\n",
       "      <td>12</td>\n",
       "      <td>1993</td>\n",
       "      <td>0</td>\n",
       "    </tr>\n",
       "    <tr>\n",
       "      <th>193343</th>\n",
       "      <td>175.9375</td>\n",
       "      <td>-56.0</td>\n",
       "      <td>224.356599</td>\n",
       "      <td>1993-12-01</td>\n",
       "      <td>50</td>\n",
       "      <td>12</td>\n",
       "      <td>1993</td>\n",
       "      <td>0</td>\n",
       "    </tr>\n",
       "  </tbody>\n",
       "</table>\n",
       "</div>"
      ],
      "text/plain": [
       "             lon   lat           T       date  lev  month  year  day\n",
       "193339  145.9375 -56.0  225.518711 1993-12-01   50     12  1993    0\n",
       "193340  153.4375 -56.0  224.930258 1993-12-01   50     12  1993    0\n",
       "193341  160.9375 -56.0  224.498621 1993-12-01   50     12  1993    0\n",
       "193342  168.4375 -56.0  224.309027 1993-12-01   50     12  1993    0\n",
       "193343  175.9375 -56.0  224.356599 1993-12-01   50     12  1993    0"
      ]
     },
     "execution_count": 3,
     "metadata": {},
     "output_type": "execute_result"
    }
   ],
   "source": [
    "dfT.tail()"
   ]
  },
  {
   "cell_type": "code",
   "execution_count": 4,
   "id": "e453d108-3482-49fc-ac47-07f747792b71",
   "metadata": {},
   "outputs": [
    {
     "data": {
      "text/html": [
       "<div>\n",
       "<style scoped>\n",
       "    .dataframe tbody tr th:only-of-type {\n",
       "        vertical-align: middle;\n",
       "    }\n",
       "\n",
       "    .dataframe tbody tr th {\n",
       "        vertical-align: top;\n",
       "    }\n",
       "\n",
       "    .dataframe thead th {\n",
       "        text-align: right;\n",
       "    }\n",
       "</style>\n",
       "<table border=\"1\" class=\"dataframe\">\n",
       "  <thead>\n",
       "    <tr style=\"text-align: right;\">\n",
       "      <th></th>\n",
       "      <th>lon</th>\n",
       "      <th>lat</th>\n",
       "      <th>TOTEXTTAU</th>\n",
       "      <th>year</th>\n",
       "      <th>month</th>\n",
       "      <th>day</th>\n",
       "      <th>date</th>\n",
       "    </tr>\n",
       "  </thead>\n",
       "  <tbody>\n",
       "    <tr>\n",
       "      <th>83136</th>\n",
       "      <td>-176.5625</td>\n",
       "      <td>56.5</td>\n",
       "      <td>0.125594</td>\n",
       "      <td>1986</td>\n",
       "      <td>1</td>\n",
       "      <td>1</td>\n",
       "      <td>1986-01-01</td>\n",
       "    </tr>\n",
       "    <tr>\n",
       "      <th>83137</th>\n",
       "      <td>-169.0625</td>\n",
       "      <td>56.5</td>\n",
       "      <td>0.111849</td>\n",
       "      <td>1986</td>\n",
       "      <td>1</td>\n",
       "      <td>1</td>\n",
       "      <td>1986-01-01</td>\n",
       "    </tr>\n",
       "    <tr>\n",
       "      <th>83138</th>\n",
       "      <td>-161.5625</td>\n",
       "      <td>56.5</td>\n",
       "      <td>0.099602</td>\n",
       "      <td>1986</td>\n",
       "      <td>1</td>\n",
       "      <td>1</td>\n",
       "      <td>1986-01-01</td>\n",
       "    </tr>\n",
       "    <tr>\n",
       "      <th>83139</th>\n",
       "      <td>-154.0625</td>\n",
       "      <td>56.5</td>\n",
       "      <td>0.100677</td>\n",
       "      <td>1986</td>\n",
       "      <td>1</td>\n",
       "      <td>1</td>\n",
       "      <td>1986-01-01</td>\n",
       "    </tr>\n",
       "    <tr>\n",
       "      <th>83140</th>\n",
       "      <td>-146.5625</td>\n",
       "      <td>56.5</td>\n",
       "      <td>0.135423</td>\n",
       "      <td>1986</td>\n",
       "      <td>1</td>\n",
       "      <td>1</td>\n",
       "      <td>1986-01-01</td>\n",
       "    </tr>\n",
       "  </tbody>\n",
       "</table>\n",
       "</div>"
      ],
      "text/plain": [
       "            lon   lat  TOTEXTTAU  year  month  day       date\n",
       "83136 -176.5625  56.5   0.125594  1986      1    1 1986-01-01\n",
       "83137 -169.0625  56.5   0.111849  1986      1    1 1986-01-01\n",
       "83138 -161.5625  56.5   0.099602  1986      1    1 1986-01-01\n",
       "83139 -154.0625  56.5   0.100677  1986      1    1 1986-01-01\n",
       "83140 -146.5625  56.5   0.135423  1986      1    1 1986-01-01"
      ]
     },
     "execution_count": 4,
     "metadata": {},
     "output_type": "execute_result"
    }
   ],
   "source": [
    "path = \"data/TOTEXTTAUall_48x24.csv\"\n",
    "dfAOD = pd.read_csv(path)\n",
    "\n",
    "dfAOD = dfAOD[\n",
    "    (dfAOD.lat >= -60) & \n",
    "    (dfAOD.lat <= 60) &\n",
    "    (dfAOD.year >= 1986) & \n",
    "    (dfAOD.year < 1994)\n",
    "]\n",
    "\n",
    "\n",
    "dfAOD[\"date\"] = dfAOD.date.apply(lambda x: datetime.strptime(x, fmt))\n",
    "\n",
    "dfAOD.head()"
   ]
  },
  {
   "cell_type": "code",
   "execution_count": 5,
   "id": "9cefd758-fac9-4664-ae69-10b4e3bc443f",
   "metadata": {},
   "outputs": [
    {
     "data": {
      "text/plain": [
       "False"
      ]
     },
     "execution_count": 5,
     "metadata": {},
     "output_type": "execute_result"
    }
   ],
   "source": [
    "dfT.shape==dfAOD.shape"
   ]
  },
  {
   "cell_type": "code",
   "execution_count": 6,
   "id": "e7e68eed-244b-4f0a-ab3e-8691e751244b",
   "metadata": {},
   "outputs": [
    {
     "data": {
      "text/html": [
       "<div>\n",
       "<style scoped>\n",
       "    .dataframe tbody tr th:only-of-type {\n",
       "        vertical-align: middle;\n",
       "    }\n",
       "\n",
       "    .dataframe tbody tr th {\n",
       "        vertical-align: top;\n",
       "    }\n",
       "\n",
       "    .dataframe thead th {\n",
       "        text-align: right;\n",
       "    }\n",
       "</style>\n",
       "<table border=\"1\" class=\"dataframe\">\n",
       "  <thead>\n",
       "    <tr style=\"text-align: right;\">\n",
       "      <th></th>\n",
       "      <th>lon</th>\n",
       "      <th>lat</th>\n",
       "      <th>TOTEXTTAU</th>\n",
       "      <th>year</th>\n",
       "      <th>month</th>\n",
       "      <th>day</th>\n",
       "      <th>date</th>\n",
       "      <th>T</th>\n",
       "    </tr>\n",
       "  </thead>\n",
       "  <tbody>\n",
       "    <tr>\n",
       "      <th>83136</th>\n",
       "      <td>-176.5625</td>\n",
       "      <td>56.5</td>\n",
       "      <td>0.125594</td>\n",
       "      <td>1986</td>\n",
       "      <td>1</td>\n",
       "      <td>1</td>\n",
       "      <td>1986-01-01</td>\n",
       "      <td>229.257093</td>\n",
       "    </tr>\n",
       "    <tr>\n",
       "      <th>83137</th>\n",
       "      <td>-169.0625</td>\n",
       "      <td>56.5</td>\n",
       "      <td>0.111849</td>\n",
       "      <td>1986</td>\n",
       "      <td>1</td>\n",
       "      <td>1</td>\n",
       "      <td>1986-01-01</td>\n",
       "      <td>229.008780</td>\n",
       "    </tr>\n",
       "    <tr>\n",
       "      <th>83138</th>\n",
       "      <td>-161.5625</td>\n",
       "      <td>56.5</td>\n",
       "      <td>0.099602</td>\n",
       "      <td>1986</td>\n",
       "      <td>1</td>\n",
       "      <td>1</td>\n",
       "      <td>1986-01-01</td>\n",
       "      <td>228.609150</td>\n",
       "    </tr>\n",
       "    <tr>\n",
       "      <th>83139</th>\n",
       "      <td>-154.0625</td>\n",
       "      <td>56.5</td>\n",
       "      <td>0.100677</td>\n",
       "      <td>1986</td>\n",
       "      <td>1</td>\n",
       "      <td>1</td>\n",
       "      <td>1986-01-01</td>\n",
       "      <td>227.929692</td>\n",
       "    </tr>\n",
       "    <tr>\n",
       "      <th>83140</th>\n",
       "      <td>-146.5625</td>\n",
       "      <td>56.5</td>\n",
       "      <td>0.135423</td>\n",
       "      <td>1986</td>\n",
       "      <td>1</td>\n",
       "      <td>1</td>\n",
       "      <td>1986-01-01</td>\n",
       "      <td>226.916581</td>\n",
       "    </tr>\n",
       "  </tbody>\n",
       "</table>\n",
       "</div>"
      ],
      "text/plain": [
       "            lon   lat  TOTEXTTAU  year  month  day       date           T\n",
       "83136 -176.5625  56.5   0.125594  1986      1    1 1986-01-01  229.257093\n",
       "83137 -169.0625  56.5   0.111849  1986      1    1 1986-01-01  229.008780\n",
       "83138 -161.5625  56.5   0.099602  1986      1    1 1986-01-01  228.609150\n",
       "83139 -154.0625  56.5   0.100677  1986      1    1 1986-01-01  227.929692\n",
       "83140 -146.5625  56.5   0.135423  1986      1    1 1986-01-01  226.916581"
      ]
     },
     "execution_count": 6,
     "metadata": {},
     "output_type": "execute_result"
    }
   ],
   "source": [
    "dfT.set_index([\"lat\", \"lon\", \"date\"], inplace=True)\n",
    "df = dfAOD.join(dfT[[\"T\"]], on=[\"lat\", \"lon\", \"date\"])\n",
    "df.head()"
   ]
  },
  {
   "cell_type": "code",
   "execution_count": 7,
   "id": "2f5a9b8e-2057-4ff0-9215-894799a06a98",
   "metadata": {},
   "outputs": [
    {
     "data": {
      "text/plain": [
       "lon          False\n",
       "lat          False\n",
       "TOTEXTTAU    False\n",
       "year         False\n",
       "month        False\n",
       "day          False\n",
       "date         False\n",
       "T            False\n",
       "dtype: bool"
      ]
     },
     "execution_count": 7,
     "metadata": {},
     "output_type": "execute_result"
    }
   ],
   "source": [
    "df.isna().any()"
   ]
  },
  {
   "cell_type": "code",
   "execution_count": 8,
   "id": "ec35153e-0a12-4773-bb7e-137ac3e003e9",
   "metadata": {},
   "outputs": [],
   "source": [
    "month_offset = df.groupby(\"date\").day.count().iloc[0]\n",
    "\n",
    "for i in range(1,30):\n",
    "    df[f\"offset_{i}\"] = df[\"T\"].shift(periods=month_offset * i)\n",
    "    df[f\"aod_offset_{i}\"] = df[\"TOTEXTTAU\"].shift(periods=month_offset * i)\n",
    "    \n",
    "offset_cols = [\"T\"] + [\n",
    "    f\"offset_{i}\" for i in range(1,30)\n",
    "]\n",
    "\n",
    "aod_offset_cols = offset_cols + [\"TOTEXTTAU\"] + [\n",
    "    f\"aod_offset_{i}\" for i in range(1,30)\n",
    "]\n",
    "\n",
    "df = df[~df.offset_29.isna()].reset_index(drop=True)"
   ]
  },
  {
   "cell_type": "code",
   "execution_count": 9,
   "id": "a7ecf4d4-7f1f-4ebe-be80-17761f1d2f4c",
   "metadata": {},
   "outputs": [
    {
     "data": {
      "text/plain": [
       "lon              0\n",
       "lat              0\n",
       "TOTEXTTAU        0\n",
       "year             0\n",
       "month            0\n",
       "                ..\n",
       "aod_offset_27    0\n",
       "offset_28        0\n",
       "aod_offset_28    0\n",
       "offset_29        0\n",
       "aod_offset_29    0\n",
       "Length: 66, dtype: int64"
      ]
     },
     "execution_count": 9,
     "metadata": {},
     "output_type": "execute_result"
    }
   ],
   "source": [
    "df.isna().sum()"
   ]
  },
  {
   "cell_type": "code",
   "execution_count": 10,
   "id": "96f8faa1-784e-4058-b1c3-23136d14e1b8",
   "metadata": {},
   "outputs": [],
   "source": [
    "df[\"Train_A\"] = (df.date <= datetime.strptime(\"1991-01-01\", fmt)) & ~(df.offset_29.isna())\n",
    "df[\"Test_A\"] = (df.date >= datetime.strptime(\"1991-01-01\", fmt)) & ~(df.offset_29.isna())\n",
    "df[\"Train_B\"] = (df.date <= datetime.strptime(\"1991-12-01\", fmt)) & ~(df.offset_29.isna())\n",
    "df[\"Test_B\"] = (df.date >= datetime.strptime(\"1991-12-01\", fmt)) & ~(df.offset_29.isna())"
   ]
  },
  {
   "cell_type": "code",
   "execution_count": 11,
   "id": "6212f0c2-7131-47e6-aa62-70e9c2370cd3",
   "metadata": {},
   "outputs": [
    {
     "data": {
      "text/plain": [
       "False    26880\n",
       "True     24576\n",
       "Name: Train_A, dtype: int64"
      ]
     },
     "execution_count": 11,
     "metadata": {},
     "output_type": "execute_result"
    }
   ],
   "source": [
    "df.Train_A.value_counts()"
   ]
  },
  {
   "cell_type": "code",
   "execution_count": 12,
   "id": "a1621cb5-82d4-450d-9d90-d9af0ce81498",
   "metadata": {},
   "outputs": [
    {
     "data": {
      "text/plain": [
       "True     33024\n",
       "False    18432\n",
       "Name: Train_B, dtype: int64"
      ]
     },
     "execution_count": 12,
     "metadata": {},
     "output_type": "execute_result"
    }
   ],
   "source": [
    "df.Train_B.value_counts()"
   ]
  },
  {
   "cell_type": "code",
   "execution_count": 13,
   "id": "8b617fa5-b67b-4480-ae61-1dd7789728bb",
   "metadata": {},
   "outputs": [
    {
     "data": {
      "text/plain": [
       "True     27648\n",
       "False    23808\n",
       "Name: Test_A, dtype: int64"
      ]
     },
     "execution_count": 13,
     "metadata": {},
     "output_type": "execute_result"
    }
   ],
   "source": [
    "df.Test_A.value_counts()"
   ]
  },
  {
   "cell_type": "code",
   "execution_count": 14,
   "id": "6d4f8b3c-6fc4-4ff7-8b1d-d64bce105546",
   "metadata": {},
   "outputs": [
    {
     "data": {
      "text/plain": [
       "False    32256\n",
       "True     19200\n",
       "Name: Test_B, dtype: int64"
      ]
     },
     "execution_count": 14,
     "metadata": {},
     "output_type": "execute_result"
    }
   ],
   "source": [
    "df.Test_B.value_counts()"
   ]
  },
  {
   "cell_type": "code",
   "execution_count": 16,
   "id": "4d863aaf-a09b-4cf5-85e3-6d6526ae963b",
   "metadata": {},
   "outputs": [],
   "source": [
    "df.to_csv(\"data/df_trains_ctx.csv\", index=False)"
   ]
  },
  {
   "cell_type": "code",
   "execution_count": 18,
   "id": "40949818-882c-4cdc-82aa-3b075dec06c9",
   "metadata": {},
   "outputs": [
    {
     "data": {
      "text/html": [
       "<div>\n",
       "<style scoped>\n",
       "    .dataframe tbody tr th:only-of-type {\n",
       "        vertical-align: middle;\n",
       "    }\n",
       "\n",
       "    .dataframe tbody tr th {\n",
       "        vertical-align: top;\n",
       "    }\n",
       "\n",
       "    .dataframe thead th {\n",
       "        text-align: right;\n",
       "    }\n",
       "</style>\n",
       "<table border=\"1\" class=\"dataframe\">\n",
       "  <thead>\n",
       "    <tr style=\"text-align: right;\">\n",
       "      <th></th>\n",
       "      <th>lon</th>\n",
       "      <th>lat</th>\n",
       "      <th>T</th>\n",
       "      <th>date</th>\n",
       "      <th>month</th>\n",
       "      <th>year</th>\n",
       "      <th>day</th>\n",
       "    </tr>\n",
       "  </thead>\n",
       "  <tbody>\n",
       "    <tr>\n",
       "      <th>192</th>\n",
       "      <td>-176.5625</td>\n",
       "      <td>56.5</td>\n",
       "      <td>268.824308</td>\n",
       "      <td>1986-01-01</td>\n",
       "      <td>1</td>\n",
       "      <td>1986</td>\n",
       "      <td>1</td>\n",
       "    </tr>\n",
       "    <tr>\n",
       "      <th>193</th>\n",
       "      <td>-169.0625</td>\n",
       "      <td>56.5</td>\n",
       "      <td>265.699616</td>\n",
       "      <td>1986-01-01</td>\n",
       "      <td>1</td>\n",
       "      <td>1986</td>\n",
       "      <td>1</td>\n",
       "    </tr>\n",
       "    <tr>\n",
       "      <th>194</th>\n",
       "      <td>-161.5625</td>\n",
       "      <td>56.5</td>\n",
       "      <td>270.925306</td>\n",
       "      <td>1986-01-01</td>\n",
       "      <td>1</td>\n",
       "      <td>1986</td>\n",
       "      <td>1</td>\n",
       "    </tr>\n",
       "    <tr>\n",
       "      <th>195</th>\n",
       "      <td>-154.0625</td>\n",
       "      <td>56.5</td>\n",
       "      <td>276.069343</td>\n",
       "      <td>1986-01-01</td>\n",
       "      <td>1</td>\n",
       "      <td>1986</td>\n",
       "      <td>1</td>\n",
       "    </tr>\n",
       "    <tr>\n",
       "      <th>196</th>\n",
       "      <td>-146.5625</td>\n",
       "      <td>56.5</td>\n",
       "      <td>277.743452</td>\n",
       "      <td>1986-01-01</td>\n",
       "      <td>1</td>\n",
       "      <td>1986</td>\n",
       "      <td>1</td>\n",
       "    </tr>\n",
       "  </tbody>\n",
       "</table>\n",
       "</div>"
      ],
      "text/plain": [
       "          lon   lat           T       date  month  year  day\n",
       "192 -176.5625  56.5  268.824308 1986-01-01      1  1986    1\n",
       "193 -169.0625  56.5  265.699616 1986-01-01      1  1986    1\n",
       "194 -161.5625  56.5  270.925306 1986-01-01      1  1986    1\n",
       "195 -154.0625  56.5  276.069343 1986-01-01      1  1986    1\n",
       "196 -146.5625  56.5  277.743452 1986-01-01      1  1986    1"
      ]
     },
     "execution_count": 18,
     "metadata": {},
     "output_type": "execute_result"
    }
   ],
   "source": [
    "# Rerun with surface temperature data\n",
    "\n",
    "path = \"data/MERRA2_tavg1_2d_slv_monthly_48x24.csv\"\n",
    "fmt = \"%Y-%m-%d\"\n",
    "\n",
    "dfT = pd.read_csv(path)\n",
    "dfT = dfT[\n",
    "    (dfT.lat >= -60) & \n",
    "    (dfT.lat <= 60) &\n",
    "    (dfT.year >= 1986) & \n",
    "    (dfT.year < 1994)\n",
    "]\n",
    "\n",
    "dfT[\"date\"] = dfT.date.apply(lambda x: datetime.strptime(x, fmt))\n",
    "dfT.head()"
   ]
  },
  {
   "cell_type": "code",
   "execution_count": 19,
   "id": "d3c380f2-8051-4818-a10d-7a7b7b42585a",
   "metadata": {},
   "outputs": [
    {
     "data": {
      "text/html": [
       "<div>\n",
       "<style scoped>\n",
       "    .dataframe tbody tr th:only-of-type {\n",
       "        vertical-align: middle;\n",
       "    }\n",
       "\n",
       "    .dataframe tbody tr th {\n",
       "        vertical-align: top;\n",
       "    }\n",
       "\n",
       "    .dataframe thead th {\n",
       "        text-align: right;\n",
       "    }\n",
       "</style>\n",
       "<table border=\"1\" class=\"dataframe\">\n",
       "  <thead>\n",
       "    <tr style=\"text-align: right;\">\n",
       "      <th></th>\n",
       "      <th>lon</th>\n",
       "      <th>lat</th>\n",
       "      <th>TOTEXTTAU</th>\n",
       "      <th>year</th>\n",
       "      <th>month</th>\n",
       "      <th>day</th>\n",
       "      <th>date</th>\n",
       "      <th>T</th>\n",
       "    </tr>\n",
       "  </thead>\n",
       "  <tbody>\n",
       "    <tr>\n",
       "      <th>83136</th>\n",
       "      <td>-176.5625</td>\n",
       "      <td>56.5</td>\n",
       "      <td>0.125594</td>\n",
       "      <td>1986</td>\n",
       "      <td>1</td>\n",
       "      <td>1</td>\n",
       "      <td>1986-01-01</td>\n",
       "      <td>268.824308</td>\n",
       "    </tr>\n",
       "    <tr>\n",
       "      <th>83137</th>\n",
       "      <td>-169.0625</td>\n",
       "      <td>56.5</td>\n",
       "      <td>0.111849</td>\n",
       "      <td>1986</td>\n",
       "      <td>1</td>\n",
       "      <td>1</td>\n",
       "      <td>1986-01-01</td>\n",
       "      <td>265.699616</td>\n",
       "    </tr>\n",
       "    <tr>\n",
       "      <th>83138</th>\n",
       "      <td>-161.5625</td>\n",
       "      <td>56.5</td>\n",
       "      <td>0.099602</td>\n",
       "      <td>1986</td>\n",
       "      <td>1</td>\n",
       "      <td>1</td>\n",
       "      <td>1986-01-01</td>\n",
       "      <td>270.925306</td>\n",
       "    </tr>\n",
       "    <tr>\n",
       "      <th>83139</th>\n",
       "      <td>-154.0625</td>\n",
       "      <td>56.5</td>\n",
       "      <td>0.100677</td>\n",
       "      <td>1986</td>\n",
       "      <td>1</td>\n",
       "      <td>1</td>\n",
       "      <td>1986-01-01</td>\n",
       "      <td>276.069343</td>\n",
       "    </tr>\n",
       "    <tr>\n",
       "      <th>83140</th>\n",
       "      <td>-146.5625</td>\n",
       "      <td>56.5</td>\n",
       "      <td>0.135423</td>\n",
       "      <td>1986</td>\n",
       "      <td>1</td>\n",
       "      <td>1</td>\n",
       "      <td>1986-01-01</td>\n",
       "      <td>277.743452</td>\n",
       "    </tr>\n",
       "  </tbody>\n",
       "</table>\n",
       "</div>"
      ],
      "text/plain": [
       "            lon   lat  TOTEXTTAU  year  month  day       date           T\n",
       "83136 -176.5625  56.5   0.125594  1986      1    1 1986-01-01  268.824308\n",
       "83137 -169.0625  56.5   0.111849  1986      1    1 1986-01-01  265.699616\n",
       "83138 -161.5625  56.5   0.099602  1986      1    1 1986-01-01  270.925306\n",
       "83139 -154.0625  56.5   0.100677  1986      1    1 1986-01-01  276.069343\n",
       "83140 -146.5625  56.5   0.135423  1986      1    1 1986-01-01  277.743452"
      ]
     },
     "execution_count": 19,
     "metadata": {},
     "output_type": "execute_result"
    }
   ],
   "source": [
    "dfT.set_index([\"lat\", \"lon\", \"date\"], inplace=True)\n",
    "df = dfAOD.join(dfT[[\"T\"]], on=[\"lat\", \"lon\", \"date\"])\n",
    "df.head()"
   ]
  },
  {
   "cell_type": "code",
   "execution_count": 20,
   "id": "3b100ebe-a029-4acd-ad17-a5ff04c6bb81",
   "metadata": {},
   "outputs": [
    {
     "data": {
      "text/plain": [
       "lon          False\n",
       "lat          False\n",
       "TOTEXTTAU    False\n",
       "year         False\n",
       "month        False\n",
       "day          False\n",
       "date         False\n",
       "T            False\n",
       "dtype: bool"
      ]
     },
     "execution_count": 20,
     "metadata": {},
     "output_type": "execute_result"
    }
   ],
   "source": [
    "df.isna().any()"
   ]
  },
  {
   "cell_type": "code",
   "execution_count": 21,
   "id": "cd5d62aa-2eb6-46de-a579-9971003877df",
   "metadata": {},
   "outputs": [],
   "source": [
    "month_offset = df.groupby(\"date\").day.count().iloc[0]\n",
    "\n",
    "for i in range(1,30):\n",
    "    df[f\"offset_{i}\"] = df[\"T\"].shift(periods=month_offset * i)\n",
    "    df[f\"aod_offset_{i}\"] = df[\"TOTEXTTAU\"].shift(periods=month_offset * i)\n",
    "    \n",
    "offset_cols = [\"T\"] + [\n",
    "    f\"offset_{i}\" for i in range(1,30)\n",
    "]\n",
    "\n",
    "aod_offset_cols = offset_cols + [\"TOTEXTTAU\"] + [\n",
    "    f\"aod_offset_{i}\" for i in range(1,30)\n",
    "]\n",
    "\n",
    "df = df[~df.offset_29.isna()].reset_index(drop=True)"
   ]
  },
  {
   "cell_type": "code",
   "execution_count": 22,
   "id": "a85f18ad-fa41-4fba-a6d0-f1c603479c7d",
   "metadata": {},
   "outputs": [],
   "source": [
    "df[\"Train_A\"] = (df.date <= datetime.strptime(\"1991-01-01\", fmt)) & ~(df.offset_29.isna())\n",
    "df[\"Test_A\"] = (df.date >= datetime.strptime(\"1991-01-01\", fmt)) & ~(df.offset_29.isna())\n",
    "df[\"Train_B\"] = (df.date <= datetime.strptime(\"1991-12-01\", fmt)) & ~(df.offset_29.isna())\n",
    "df[\"Test_B\"] = (df.date >= datetime.strptime(\"1991-12-01\", fmt)) & ~(df.offset_29.isna())"
   ]
  },
  {
   "cell_type": "code",
   "execution_count": 23,
   "id": "4a30a5fd-0612-496e-934d-e101f2ecb51c",
   "metadata": {},
   "outputs": [],
   "source": [
    "df.to_csv(\"data/df_surface_trains_ctx.csv\", index=False)"
   ]
  }
 ],
 "metadata": {
  "kernelspec": {
   "display_name": "Python 3",
   "language": "python",
   "name": "python3"
  },
  "language_info": {
   "codemirror_mode": {
    "name": "ipython",
    "version": 3
   },
   "file_extension": ".py",
   "mimetype": "text/x-python",
   "name": "python",
   "nbconvert_exporter": "python",
   "pygments_lexer": "ipython3",
   "version": "3.9.5"
  }
 },
 "nbformat": 4,
 "nbformat_minor": 5
}
